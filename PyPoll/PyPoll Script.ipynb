{
 "cells": [
  {
   "cell_type": "code",
   "execution_count": 5,
   "metadata": {},
   "outputs": [],
   "source": [
    "import csv\n",
    "import os"
   ]
  },
  {
   "cell_type": "code",
   "execution_count": 9,
   "metadata": {},
   "outputs": [],
   "source": [
    "PyPoll_csv = os.path.join(\"Resources\",\"election_data.csv\")\n",
    "\n",
    "total_votes = 0\n",
    "candidate = \"\"\n",
    "candidate_votes = {}\n",
    "candidate_percentages = {}\n",
    "winner_votes = 0\n",
    "winner = \"\"\n",
    "\n",
    "\n",
    "with open(PyPoll_csv, newline=\"\") as csvfile:\n",
    "    csvreader = csv.reader(csvfile, delimiter=\",\")\n",
    "    csv_header = next(csvreader)\n",
    "\n",
    "    for row in csvreader:\n",
    "        total_votes = total_votes + 1\n",
    "        candidate = row[2]\n",
    "        if candidate in candidate_votes:\n",
    "            candidate_votes[candidate] = candidate_votes[candidate] + 1\n",
    "        else:\n",
    "            candidate_votes[candidate] = 1\n",
    "for person, vote_count in candidate_votes.items():\n",
    "    candidate_percentages[person] = '{0:.0%}'.format(vote_count / total_votes)\n",
    "    if vote_count > winner_votes:\n",
    "        winner_votes = vote_count\n",
    "        winner = person               \n",
    "               \n",
    "  "
   ]
  },
  {
   "cell_type": "code",
   "execution_count": 11,
   "metadata": {},
   "outputs": [
    {
     "name": "stdout",
     "output_type": "stream",
     "text": [
      "----------------------------------------------------------\n",
      "Election Results\n",
      "----------------------------------------------------------\n",
      "Total Votes: 3521001\n",
      "----------------------------------------------------------\n",
      "Khan: 63% (2218231)\n",
      "Correy: 20% (704200)\n",
      "Li: 14% (492940)\n",
      "O'Tooley: 3% (105630)\n",
      "----------------------------------------------------------\n",
      "Winner: Khan\n"
     ]
    }
   ],
   "source": [
    "        \n",
    "print(\"----------------------------------------------------------\")\n",
    "\n",
    "print(\"Election Results\")\n",
    "\n",
    "print(\"----------------------------------------------------------\")\n",
    "\n",
    "print(\"Total Votes: \" + str(total_votes))\n",
    "\n",
    "print(\"----------------------------------------------------------\")\n",
    "\n",
    "for person, vote_count in candidate_votes.items():\n",
    "    print(f\"{person}: {candidate_percentages[person]} ({vote_count})\")\n",
    "    \n",
    "print(\"----------------------------------------------------------\")    \n",
    "    \n",
    "print(f\"Winner: {winner}\")"
   ]
  },
  {
   "cell_type": "code",
   "execution_count": 19,
   "metadata": {},
   "outputs": [],
   "source": [
    "with open ('voting_results.txt','w') as text:\n",
    "    text.write(\"--------------------------------------------------------\\n\")\n",
    "\n",
    "    text.write(\"Election Results\" + \"\\n\")\n",
    "\n",
    "    text.write(\"-------------------------------------------------------\\n\\n\")\n",
    "\n",
    "    text.write(\"Total Votes: \" + str(total_votes) + \"\\n\")\n",
    "\n",
    "    text.write(\"--------------------------------------------------------\\n\")\n",
    "\n",
    "    for person, vote_count in candidate_votes.items():\n",
    "        text.write(f\"{person}: {candidate_percentages[person]} ({vote_count})\" + \"\\n\")\n",
    "    \n",
    "    text.write(\"--------------------------------------------------------\\n\")    \n",
    "    \n",
    "    text.write(f\"Winner: {winner}\")"
   ]
  },
  {
   "cell_type": "code",
   "execution_count": null,
   "metadata": {},
   "outputs": [],
   "source": []
  },
  {
   "cell_type": "code",
   "execution_count": null,
   "metadata": {},
   "outputs": [],
   "source": []
  }
 ],
 "metadata": {
  "kernelspec": {
   "display_name": "Python 3",
   "language": "python",
   "name": "python3"
  },
  "language_info": {
   "codemirror_mode": {
    "name": "ipython",
    "version": 3
   },
   "file_extension": ".py",
   "mimetype": "text/x-python",
   "name": "python",
   "nbconvert_exporter": "python",
   "pygments_lexer": "ipython3",
   "version": "3.7.1"
  }
 },
 "nbformat": 4,
 "nbformat_minor": 2
}
